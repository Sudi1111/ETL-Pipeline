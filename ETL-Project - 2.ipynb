{
 "cells": [
  {
   "cell_type": "code",
   "execution_count": 19,
   "id": "add78cdd-868e-496e-9adf-5c60d12d83df",
   "metadata": {},
   "outputs": [
    {
     "name": "stdout",
     "output_type": "stream",
     "text": [
      "{'customer_id': 'C104', 'name': 'Sophia Wilson', 'email': 'sophia.wilson@example.com', 'address': '404 Cedar Lane', 'join_date': '2/5/2023'}\n",
      "{'product_id': 'P209', 'product_name': 'Desk Organizer', 'category': 'Home & Office', 'cost_price': '12'}\n",
      "{'sale_id': '1006', 'date': '9/5/2024', 'customer_id': 'C105', 'product_id': 'P202', 'quantity': '4', 'price': '49.99'}\n"
     ]
    }
   ],
   "source": [
    "import csv\n",
    "with open (\"C:/Users/HP/OneDrive/Documents/Project_10Nov/Customer(in).csv\",\"r\") as file:\n",
    "    reader1=csv.DictReader(file)\n",
    "    customer_data=(list(reader1)) ### customer_data name is just for understanding the file name \n",
    "\n",
    "with open (\"C:/Users/HP/OneDrive/Documents/Project_10Nov/Product(in).csv\",\"r\") as file:\n",
    "    reader2=csv.DictReader(file)\n",
    "    product_data=(list(reader2))\n",
    "\n",
    "with open (\"C:/Users/HP/OneDrive/Documents/Project_10Nov/sales(in).csv\",\"r\") as file:\n",
    "    reader3=csv.DictReader(file)\n",
    "    sales_data=(list(reader3))\n",
    "\n",
    "    print(customer_data[3])\n",
    "    print(product_data[8])\n",
    "    print(sales_data[5])"
   ]
  },
  {
   "cell_type": "code",
   "execution_count": 23,
   "id": "ca28adda-9baa-4402-9015-945ce76211ae",
   "metadata": {},
   "outputs": [
    {
     "data": {
      "text/plain": [
       "{'product_id': 'P209',\n",
       " 'product_name': 'Desk Organizer',\n",
       " 'category': 'Home & Office',\n",
       " 'cost_price': '12'}"
      ]
     },
     "execution_count": 23,
     "metadata": {},
     "output_type": "execute_result"
    }
   ],
   "source": [
    "product_data[8]"
   ]
  },
  {
   "cell_type": "code",
   "execution_count": 83,
   "id": "9f89fc86-1ab6-4b9b-8a8c-e8d4d6b7728d",
   "metadata": {},
   "outputs": [
    {
     "name": "stdout",
     "output_type": "stream",
     "text": [
      "{'sale_id': '1125', 'date': '1/2/2025', 'customer_id': 'C124', 'product_id': 'P201', 'quantity': '3', 'price': '29.99', 'sales_value': 89.97}\n",
      "[{'sale_id': '1001', 'date': '9/1/2024', 'customer_id': 'C101', 'product_id': 'P201', 'quantity': '2', 'price': '29.99', 'sales_value': 59.98}, {'sale_id': '1002', 'date': '9/2/2024', 'customer_id': 'C102', 'product_id': 'P202', 'quantity': '1', 'price': '49.99', 'sales_value': 49.99}, {'sale_id': '1003', 'date': '9/2/2024', 'customer_id': 'C103', 'product_id': 'P203', 'quantity': '3', 'price': '15.99', 'sales_value': 47.97}, {'sale_id': '1004', 'date': '9/3/2024', 'customer_id': 'C101', 'product_id': 'P204', 'quantity': '1', 'price': '99.99', 'sales_value': 99.99}, {'sale_id': '1005', 'date': '9/4/2024', 'customer_id': 'C104', 'product_id': 'P201', 'quantity': '2', 'price': '29.99', 'sales_value': 59.98}, {'sale_id': '1006', 'date': '9/5/2024', 'customer_id': 'C105', 'product_id': 'P202', 'quantity': '4', 'price': '49.99', 'sales_value': 199.96}, {'sale_id': '1007', 'date': '9/6/2024', 'customer_id': 'C106', 'product_id': 'P203', 'quantity': '1', 'price': '15.99', 'sales_value': 15.99}, {'sale_id': '1008', 'date': '9/7/2024', 'customer_id': 'C107', 'product_id': 'P204', 'quantity': '5', 'price': '99.99', 'sales_value': 499.95}, {'sale_id': '1009', 'date': '9/8/2024', 'customer_id': 'C108', 'product_id': 'P201', 'quantity': '2', 'price': '29.99', 'sales_value': 59.98}, {'sale_id': '1010', 'date': '9/9/2024', 'customer_id': 'C109', 'product_id': 'P202', 'quantity': '3', 'price': '49.99', 'sales_value': 149.97}, {'sale_id': '1011', 'date': '9/10/2024', 'customer_id': 'C110', 'product_id': 'P203', 'quantity': '2', 'price': '15.99', 'sales_value': 31.98}, {'sale_id': '1012', 'date': '9/11/2024', 'customer_id': 'C111', 'product_id': 'P204', 'quantity': '4', 'price': '99.99', 'sales_value': 399.96}, {'sale_id': '1013', 'date': '9/12/2024', 'customer_id': 'C112', 'product_id': 'P201', 'quantity': '1', 'price': '29.99', 'sales_value': 29.99}, {'sale_id': '1014', 'date': '9/13/2024', 'customer_id': 'C113', 'product_id': 'P202', 'quantity': '5', 'price': '49.99', 'sales_value': 249.95000000000002}, {'sale_id': '1015', 'date': '9/14/2024', 'customer_id': 'C114', 'product_id': 'P203', 'quantity': '3', 'price': '15.99', 'sales_value': 47.97}, {'sale_id': '1016', 'date': '9/15/2024', 'customer_id': 'C115', 'product_id': 'P204', 'quantity': '2', 'price': '99.99', 'sales_value': 199.98}, {'sale_id': '1017', 'date': '9/16/2024', 'customer_id': 'C116', 'product_id': 'P201', 'quantity': '4', 'price': '29.99', 'sales_value': 119.96}, {'sale_id': '1018', 'date': '9/17/2024', 'customer_id': 'C117', 'product_id': 'P202', 'quantity': '1', 'price': '49.99', 'sales_value': 49.99}, {'sale_id': '1019', 'date': '9/18/2024', 'customer_id': 'C118', 'product_id': 'P203', 'quantity': '5', 'price': '15.99', 'sales_value': 79.95}, {'sale_id': '1020', 'date': '9/19/2024', 'customer_id': 'C119', 'product_id': 'P204', 'quantity': '3', 'price': '99.99', 'sales_value': 299.96999999999997}, {'sale_id': '1021', 'date': '9/20/2024', 'customer_id': 'C120', 'product_id': 'P201', 'quantity': '2', 'price': '29.99', 'sales_value': 59.98}, {'sale_id': '1022', 'date': '9/21/2024', 'customer_id': 'C121', 'product_id': 'P202', 'quantity': '4', 'price': '49.99', 'sales_value': 199.96}, {'sale_id': '1023', 'date': '9/22/2024', 'customer_id': 'C122', 'product_id': 'P203', 'quantity': '1', 'price': '15.99', 'sales_value': 15.99}, {'sale_id': '1024', 'date': '9/23/2024', 'customer_id': 'C123', 'product_id': 'P204', 'quantity': '5', 'price': '99.99', 'sales_value': 499.95}, {'sale_id': '1025', 'date': '9/24/2024', 'customer_id': 'C124', 'product_id': 'P201', 'quantity': '3', 'price': '29.99', 'sales_value': 89.97}, {'sale_id': '1026', 'date': '9/25/2024', 'customer_id': 'C125', 'product_id': 'P202', 'quantity': '2', 'price': '49.99', 'sales_value': 99.98}, {'sale_id': '1027', 'date': '9/26/2024', 'customer_id': 'C126', 'product_id': 'P203', 'quantity': '4', 'price': '15.99', 'sales_value': 63.96}, {'sale_id': '1028', 'date': '9/27/2024', 'customer_id': 'C127', 'product_id': 'P204', 'quantity': '1', 'price': '99.99', 'sales_value': 99.99}, {'sale_id': '1029', 'date': '9/28/2024', 'customer_id': 'C128', 'product_id': 'P201', 'quantity': '5', 'price': '29.99', 'sales_value': 149.95}, {'sale_id': '1030', 'date': '9/29/2024', 'customer_id': 'C129', 'product_id': 'P202', 'quantity': '3', 'price': '49.99', 'sales_value': 149.97}, {'sale_id': '1031', 'date': '9/30/2024', 'customer_id': 'C130', 'product_id': 'P203', 'quantity': '2', 'price': '15.99', 'sales_value': 31.98}, {'sale_id': '1032', 'date': '10/1/2024', 'customer_id': 'C131', 'product_id': 'P204', 'quantity': '4', 'price': '99.99', 'sales_value': 399.96}, {'sale_id': '1033', 'date': '10/2/2024', 'customer_id': 'C132', 'product_id': 'P201', 'quantity': '1', 'price': '29.99', 'sales_value': 29.99}, {'sale_id': '1034', 'date': '10/3/2024', 'customer_id': 'C133', 'product_id': 'P202', 'quantity': '5', 'price': '49.99', 'sales_value': 249.95000000000002}, {'sale_id': '1035', 'date': '10/4/2024', 'customer_id': 'C134', 'product_id': 'P203', 'quantity': '3', 'price': '15.99', 'sales_value': 47.97}, {'sale_id': '1036', 'date': '10/5/2024', 'customer_id': 'C135', 'product_id': 'P204', 'quantity': '2', 'price': '99.99', 'sales_value': 199.98}, {'sale_id': '1037', 'date': '10/6/2024', 'customer_id': 'C136', 'product_id': 'P201', 'quantity': '4', 'price': '29.99', 'sales_value': 119.96}, {'sale_id': '1038', 'date': '10/7/2024', 'customer_id': 'C137', 'product_id': 'P202', 'quantity': '1', 'price': '49.99', 'sales_value': 49.99}, {'sale_id': '1039', 'date': '10/8/2024', 'customer_id': 'C138', 'product_id': 'P203', 'quantity': '5', 'price': '15.99', 'sales_value': 79.95}, {'sale_id': '1040', 'date': '10/9/2024', 'customer_id': 'C139', 'product_id': 'P204', 'quantity': '3', 'price': '99.99', 'sales_value': 299.96999999999997}, {'sale_id': '1041', 'date': '10/10/2024', 'customer_id': 'C140', 'product_id': 'P201', 'quantity': '2', 'price': '29.99', 'sales_value': 59.98}, {'sale_id': '1042', 'date': '10/11/2024', 'customer_id': 'C141', 'product_id': 'P202', 'quantity': '4', 'price': '49.99', 'sales_value': 199.96}, {'sale_id': '1043', 'date': '10/12/2024', 'customer_id': 'C142', 'product_id': 'P203', 'quantity': '1', 'price': '15.99', 'sales_value': 15.99}, {'sale_id': '1044', 'date': '10/13/2024', 'customer_id': 'C143', 'product_id': 'P204', 'quantity': '5', 'price': '99.99', 'sales_value': 499.95}, {'sale_id': '1045', 'date': '10/14/2024', 'customer_id': 'C144', 'product_id': 'P201', 'quantity': '3', 'price': '29.99', 'sales_value': 89.97}, {'sale_id': '1046', 'date': '10/15/2024', 'customer_id': 'C145', 'product_id': 'P202', 'quantity': '2', 'price': '49.99', 'sales_value': 99.98}, {'sale_id': '1047', 'date': '10/16/2024', 'customer_id': 'C146', 'product_id': 'P203', 'quantity': '4', 'price': '15.99', 'sales_value': 63.96}, {'sale_id': '1048', 'date': '10/17/2024', 'customer_id': 'C147', 'product_id': 'P204', 'quantity': '1', 'price': '99.99', 'sales_value': 99.99}, {'sale_id': '1049', 'date': '10/18/2024', 'customer_id': 'C148', 'product_id': 'P201', 'quantity': '5', 'price': '29.99', 'sales_value': 149.95}, {'sale_id': '1050', 'date': '10/19/2024', 'customer_id': 'C149', 'product_id': 'P202', 'quantity': '3', 'price': '49.99', 'sales_value': 149.97}, {'sale_id': '1051', 'date': '10/20/2024', 'customer_id': 'C150', 'product_id': 'P203', 'quantity': '2', 'price': '15.99', 'sales_value': 31.98}, {'sale_id': '1052', 'date': '10/21/2024', 'customer_id': 'C151', 'product_id': 'P204', 'quantity': '4', 'price': '99.99', 'sales_value': 399.96}, {'sale_id': '1053', 'date': '10/22/2024', 'customer_id': 'C152', 'product_id': 'P201', 'quantity': '1', 'price': '29.99', 'sales_value': 29.99}, {'sale_id': '1054', 'date': '10/23/2024', 'customer_id': 'C153', 'product_id': 'P202', 'quantity': '5', 'price': '49.99', 'sales_value': 249.95000000000002}, {'sale_id': '1055', 'date': '10/24/2024', 'customer_id': 'C154', 'product_id': 'P203', 'quantity': '3', 'price': '15.99', 'sales_value': 47.97}, {'sale_id': '1056', 'date': '10/25/2024', 'customer_id': 'C155', 'product_id': 'P204', 'quantity': '2', 'price': '99.99', 'sales_value': 199.98}, {'sale_id': '1057', 'date': '10/26/2024', 'customer_id': 'C156', 'product_id': 'P201', 'quantity': '4', 'price': '29.99', 'sales_value': 119.96}, {'sale_id': '1058', 'date': '10/27/2024', 'customer_id': 'C157', 'product_id': 'P202', 'quantity': '1', 'price': '49.99', 'sales_value': 49.99}, {'sale_id': '1059', 'date': '10/28/2024', 'customer_id': 'C158', 'product_id': 'P203', 'quantity': '5', 'price': '15.99', 'sales_value': 79.95}, {'sale_id': '1060', 'date': '10/29/2024', 'customer_id': 'C159', 'product_id': 'P204', 'quantity': '3', 'price': '99.99', 'sales_value': 299.96999999999997}, {'sale_id': '1061', 'date': '10/30/2024', 'customer_id': 'C160', 'product_id': 'P201', 'quantity': '2', 'price': '29.99', 'sales_value': 59.98}, {'sale_id': '1062', 'date': '10/31/2024', 'customer_id': 'C161', 'product_id': 'P202', 'quantity': '4', 'price': '49.99', 'sales_value': 199.96}, {'sale_id': '1063', 'date': '11/1/2024', 'customer_id': 'C162', 'product_id': 'P203', 'quantity': '1', 'price': '15.99', 'sales_value': 15.99}, {'sale_id': '1064', 'date': '11/2/2024', 'customer_id': 'C163', 'product_id': 'P204', 'quantity': '5', 'price': '99.99', 'sales_value': 499.95}, {'sale_id': '1065', 'date': '11/3/2024', 'customer_id': 'C164', 'product_id': 'P201', 'quantity': '3', 'price': '29.99', 'sales_value': 89.97}, {'sale_id': '1066', 'date': '11/4/2024', 'customer_id': 'C165', 'product_id': 'P202', 'quantity': '2', 'price': '49.99', 'sales_value': 99.98}, {'sale_id': '1067', 'date': '11/5/2024', 'customer_id': 'C166', 'product_id': 'P203', 'quantity': '4', 'price': '15.99', 'sales_value': 63.96}, {'sale_id': '1068', 'date': '11/6/2024', 'customer_id': 'C167', 'product_id': 'P204', 'quantity': '1', 'price': '99.99', 'sales_value': 99.99}, {'sale_id': '1069', 'date': '11/7/2024', 'customer_id': 'C168', 'product_id': 'P201', 'quantity': '5', 'price': '29.99', 'sales_value': 149.95}, {'sale_id': '1070', 'date': '11/8/2024', 'customer_id': 'C169', 'product_id': 'P202', 'quantity': '3', 'price': '49.99', 'sales_value': 149.97}, {'sale_id': '1071', 'date': '11/9/2024', 'customer_id': 'C170', 'product_id': 'P203', 'quantity': '2', 'price': '15.99', 'sales_value': 31.98}, {'sale_id': '1072', 'date': '11/10/2024', 'customer_id': 'C171', 'product_id': 'P204', 'quantity': '4', 'price': '99.99', 'sales_value': 399.96}, {'sale_id': '1073', 'date': '11/11/2024', 'customer_id': 'C172', 'product_id': 'P201', 'quantity': '1', 'price': '29.99', 'sales_value': 29.99}, {'sale_id': '1074', 'date': '11/12/2024', 'customer_id': 'C173', 'product_id': 'P202', 'quantity': '5', 'price': '49.99', 'sales_value': 249.95000000000002}, {'sale_id': '1075', 'date': '11/13/2024', 'customer_id': 'C174', 'product_id': 'P203', 'quantity': '3', 'price': '15.99', 'sales_value': 47.97}, {'sale_id': '1076', 'date': '11/14/2024', 'customer_id': 'C175', 'product_id': 'P204', 'quantity': '2', 'price': '99.99', 'sales_value': 199.98}, {'sale_id': '1077', 'date': '11/15/2024', 'customer_id': 'C176', 'product_id': 'P201', 'quantity': '4', 'price': '29.99', 'sales_value': 119.96}, {'sale_id': '1078', 'date': '11/16/2024', 'customer_id': 'C177', 'product_id': 'P202', 'quantity': '1', 'price': '49.99', 'sales_value': 49.99}, {'sale_id': '1079', 'date': '11/17/2024', 'customer_id': 'C178', 'product_id': 'P203', 'quantity': '5', 'price': '15.99', 'sales_value': 79.95}, {'sale_id': '1080', 'date': '11/18/2024', 'customer_id': 'C179', 'product_id': 'P204', 'quantity': '3', 'price': '99.99', 'sales_value': 299.96999999999997}, {'sale_id': '1081', 'date': '11/19/2024', 'customer_id': 'C180', 'product_id': 'P201', 'quantity': '2', 'price': '29.99', 'sales_value': 59.98}, {'sale_id': '1082', 'date': '11/20/2024', 'customer_id': 'C181', 'product_id': 'P202', 'quantity': '4', 'price': '49.99', 'sales_value': 199.96}, {'sale_id': '1083', 'date': '11/21/2024', 'customer_id': 'C182', 'product_id': 'P203', 'quantity': '1', 'price': '15.99', 'sales_value': 15.99}, {'sale_id': '1084', 'date': '11/22/2024', 'customer_id': 'C183', 'product_id': 'P204', 'quantity': '5', 'price': '99.99', 'sales_value': 499.95}, {'sale_id': '1085', 'date': '11/23/2024', 'customer_id': 'C184', 'product_id': 'P201', 'quantity': '3', 'price': '29.99', 'sales_value': 89.97}, {'sale_id': '1086', 'date': '11/24/2024', 'customer_id': 'C185', 'product_id': 'P202', 'quantity': '2', 'price': '49.99', 'sales_value': 99.98}, {'sale_id': '1087', 'date': '11/25/2024', 'customer_id': 'C186', 'product_id': 'P203', 'quantity': '4', 'price': '15.99', 'sales_value': 63.96}, {'sale_id': '1088', 'date': '11/26/2024', 'customer_id': 'C187', 'product_id': 'P204', 'quantity': '1', 'price': '99.99', 'sales_value': 99.99}, {'sale_id': '1089', 'date': '11/27/2024', 'customer_id': 'C188', 'product_id': 'P201', 'quantity': '5', 'price': '29.99', 'sales_value': 149.95}, {'sale_id': '1090', 'date': '11/28/2024', 'customer_id': 'C189', 'product_id': 'P202', 'quantity': '3', 'price': '49.99', 'sales_value': 149.97}, {'sale_id': '1091', 'date': '11/29/2024', 'customer_id': 'C190', 'product_id': 'P203', 'quantity': '2', 'price': '15.99', 'sales_value': 31.98}, {'sale_id': '1092', 'date': '11/30/2024', 'customer_id': 'C191', 'product_id': 'P204', 'quantity': '4', 'price': '99.99', 'sales_value': 399.96}, {'sale_id': '1093', 'date': '12/1/2024', 'customer_id': 'C192', 'product_id': 'P201', 'quantity': '1', 'price': '29.99', 'sales_value': 29.99}, {'sale_id': '1094', 'date': '12/2/2024', 'customer_id': 'C193', 'product_id': 'P202', 'quantity': '5', 'price': '49.99', 'sales_value': 249.95000000000002}, {'sale_id': '1095', 'date': '12/3/2024', 'customer_id': 'C194', 'product_id': 'P203', 'quantity': '3', 'price': '15.99', 'sales_value': 47.97}, {'sale_id': '1096', 'date': '12/4/2024', 'customer_id': 'C195', 'product_id': 'P204', 'quantity': '2', 'price': '99.99', 'sales_value': 199.98}, {'sale_id': '1097', 'date': '12/5/2024', 'customer_id': 'C196', 'product_id': 'P201', 'quantity': '4', 'price': '29.99', 'sales_value': 119.96}, {'sale_id': '1098', 'date': '12/6/2024', 'customer_id': 'C197', 'product_id': 'P202', 'quantity': '1', 'price': '49.99', 'sales_value': 49.99}, {'sale_id': '1099', 'date': '12/7/2024', 'customer_id': 'C198', 'product_id': 'P203', 'quantity': '5', 'price': '15.99', 'sales_value': 79.95}, {'sale_id': '1100', 'date': '12/8/2024', 'customer_id': 'C199', 'product_id': 'P204', 'quantity': '3', 'price': '99.99', 'sales_value': 299.96999999999997}, {'sale_id': '1101', 'date': '12/9/2024', 'customer_id': 'C200', 'product_id': 'P201', 'quantity': '2', 'price': '29.99', 'sales_value': 59.98}, {'sale_id': '1102', 'date': '12/10/2024', 'customer_id': 'C101', 'product_id': 'P202', 'quantity': '4', 'price': '49.99', 'sales_value': 199.96}, {'sale_id': '1103', 'date': '12/11/2024', 'customer_id': 'C102', 'product_id': 'P203', 'quantity': '1', 'price': '15.99', 'sales_value': 15.99}, {'sale_id': '1104', 'date': '12/12/2024', 'customer_id': 'C103', 'product_id': 'P204', 'quantity': '5', 'price': '99.99', 'sales_value': 499.95}, {'sale_id': '1105', 'date': '12/13/2024', 'customer_id': 'C104', 'product_id': 'P201', 'quantity': '3', 'price': '29.99', 'sales_value': 89.97}, {'sale_id': '1106', 'date': '12/14/2024', 'customer_id': 'C105', 'product_id': 'P202', 'quantity': '2', 'price': '49.99', 'sales_value': 99.98}, {'sale_id': '1107', 'date': '12/15/2024', 'customer_id': 'C106', 'product_id': 'P203', 'quantity': '4', 'price': '15.99', 'sales_value': 63.96}, {'sale_id': '1108', 'date': '12/16/2024', 'customer_id': 'C107', 'product_id': 'P204', 'quantity': '1', 'price': '99.99', 'sales_value': 99.99}, {'sale_id': '1109', 'date': '12/17/2024', 'customer_id': 'C108', 'product_id': 'P201', 'quantity': '5', 'price': '29.99', 'sales_value': 149.95}, {'sale_id': '1110', 'date': '12/18/2024', 'customer_id': 'C109', 'product_id': 'P202', 'quantity': '3', 'price': '49.99', 'sales_value': 149.97}, {'sale_id': '1111', 'date': '12/19/2024', 'customer_id': 'C110', 'product_id': 'P203', 'quantity': '2', 'price': '15.99', 'sales_value': 31.98}, {'sale_id': '1112', 'date': '12/20/2024', 'customer_id': 'C111', 'product_id': 'P204', 'quantity': '4', 'price': '99.99', 'sales_value': 399.96}, {'sale_id': '1113', 'date': '12/21/2024', 'customer_id': 'C112', 'product_id': 'P201', 'quantity': '1', 'price': '29.99', 'sales_value': 29.99}, {'sale_id': '1114', 'date': '12/22/2024', 'customer_id': 'C113', 'product_id': 'P202', 'quantity': '5', 'price': '49.99', 'sales_value': 249.95000000000002}, {'sale_id': '1115', 'date': '12/23/2024', 'customer_id': 'C114', 'product_id': 'P203', 'quantity': '3', 'price': '15.99', 'sales_value': 47.97}, {'sale_id': '1116', 'date': '12/24/2024', 'customer_id': 'C115', 'product_id': 'P204', 'quantity': '2', 'price': '99.99', 'sales_value': 199.98}, {'sale_id': '1117', 'date': '12/25/2024', 'customer_id': 'C116', 'product_id': 'P201', 'quantity': '4', 'price': '29.99', 'sales_value': 119.96}, {'sale_id': '1118', 'date': '12/26/2024', 'customer_id': 'C117', 'product_id': 'P202', 'quantity': '1', 'price': '49.99', 'sales_value': 49.99}, {'sale_id': '1119', 'date': '12/27/2024', 'customer_id': 'C118', 'product_id': 'P203', 'quantity': '5', 'price': '15.99', 'sales_value': 79.95}, {'sale_id': '1120', 'date': '12/28/2024', 'customer_id': 'C119', 'product_id': 'P204', 'quantity': '3', 'price': '99.99', 'sales_value': 299.96999999999997}, {'sale_id': '1121', 'date': '12/29/2024', 'customer_id': 'C120', 'product_id': 'P201', 'quantity': '2', 'price': '29.99', 'sales_value': 59.98}, {'sale_id': '1122', 'date': '12/30/2024', 'customer_id': 'C121', 'product_id': 'P202', 'quantity': '4', 'price': '49.99', 'sales_value': 199.96}, {'sale_id': '1123', 'date': '12/31/2024', 'customer_id': 'C122', 'product_id': 'P203', 'quantity': '1', 'price': '15.99', 'sales_value': 15.99}, {'sale_id': '1124', 'date': '1/1/2025', 'customer_id': 'C123', 'product_id': 'P204', 'quantity': '5', 'price': '99.99', 'sales_value': 499.95}, {'sale_id': '1125', 'date': '1/2/2025', 'customer_id': 'C124', 'product_id': 'P201', 'quantity': '3', 'price': '29.99', 'sales_value': 89.97}]\n"
     ]
    }
   ],
   "source": [
    "\n",
    "for i in sales_data:\n",
    "    i['sales_value'] = float(i['quantity']) * float(i['price'])\n",
    "print(i)\n",
    "print(sales_data)\n"
   ]
  },
  {
   "cell_type": "code",
   "execution_count": null,
   "id": "1f87d79b-68ba-4ba3-b422-3d2537d210be",
   "metadata": {},
   "outputs": [],
   "source": []
  }
 ],
 "metadata": {
  "kernelspec": {
   "display_name": "Python 3 (ipykernel)",
   "language": "python",
   "name": "python3"
  },
  "language_info": {
   "codemirror_mode": {
    "name": "ipython",
    "version": 3
   },
   "file_extension": ".py",
   "mimetype": "text/x-python",
   "name": "python",
   "nbconvert_exporter": "python",
   "pygments_lexer": "ipython3",
   "version": "3.12.4"
  }
 },
 "nbformat": 4,
 "nbformat_minor": 5
}
